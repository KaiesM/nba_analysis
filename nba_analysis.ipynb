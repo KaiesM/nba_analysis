{
 "cells": [
  {
   "cell_type": "code",
   "execution_count": 202,
   "metadata": {},
   "outputs": [],
   "source": [
    "import numpy as np\n",
    "import pandas as pd\n",
    "\n",
    "import torch\n",
    "import torch.nn as nn\n",
    "import torch.nn.functional as F\n",
    "\n",
    "from torch.optim import SGD\n",
    "from torch.utils.data import DataLoader\n",
    "\n",
    "from matplotlib import pyplot as plt\n",
    "\n",
    "import warnings \n",
    "\n",
    "warnings.filterwarnings('ignore')"
   ]
  },
  {
   "cell_type": "code",
   "execution_count": 203,
   "metadata": {},
   "outputs": [
    {
     "name": "stdout",
     "output_type": "stream",
     "text": [
      "Available device: cuda\n"
     ]
    }
   ],
   "source": [
    "device = torch.device(\"cuda\" if torch.cuda.is_available() else \"cpu\")\n",
    "\n",
    "print(f\"Available device: {device}\")"
   ]
  },
  {
   "cell_type": "code",
   "execution_count": 204,
   "metadata": {},
   "outputs": [],
   "source": [
    "reg_22 = pd.read_csv('2022_reg.csv', sep=';', encoding='latin_1')\n",
    "reg_23 = pd.read_csv('2023_reg.csv', sep=';', encoding='latin_1')\n",
    "# reg_22.head()\n",
    "# reg_23.head()"
   ]
  },
  {
   "cell_type": "code",
   "execution_count": 205,
   "metadata": {},
   "outputs": [
    {
     "name": "stdout",
     "output_type": "stream",
     "text": [
      "<class 'pandas.core.frame.DataFrame'>\n",
      "RangeIndex: 812 entries, 0 to 811\n",
      "Data columns (total 30 columns):\n",
      " #   Column  Non-Null Count  Dtype  \n",
      "---  ------  --------------  -----  \n",
      " 0   Rk      812 non-null    int64  \n",
      " 1   Player  812 non-null    object \n",
      " 2   Pos     812 non-null    object \n",
      " 3   Age     812 non-null    int64  \n",
      " 4   Tm      812 non-null    object \n",
      " 5   G       812 non-null    int64  \n",
      " 6   GS      812 non-null    int64  \n",
      " 7   MP      812 non-null    float64\n",
      " 8   FG      812 non-null    float64\n",
      " 9   FGA     812 non-null    float64\n",
      " 10  FG%     812 non-null    float64\n",
      " 11  3P      812 non-null    float64\n",
      " 12  3PA     812 non-null    float64\n",
      " 13  3P%     812 non-null    float64\n",
      " 14  2P      812 non-null    float64\n",
      " 15  2PA     812 non-null    float64\n",
      " 16  2P%     812 non-null    float64\n",
      " 17  eFG%    812 non-null    float64\n",
      " 18  FT      812 non-null    float64\n",
      " 19  FTA     812 non-null    float64\n",
      " 20  FT%     812 non-null    float64\n",
      " 21  ORB     812 non-null    float64\n",
      " 22  DRB     812 non-null    float64\n",
      " 23  TRB     812 non-null    float64\n",
      " 24  AST     812 non-null    float64\n",
      " 25  STL     812 non-null    float64\n",
      " 26  BLK     812 non-null    float64\n",
      " 27  TOV     812 non-null    float64\n",
      " 28  PF      812 non-null    float64\n",
      " 29  PTS     812 non-null    float64\n",
      "dtypes: float64(23), int64(4), object(3)\n",
      "memory usage: 190.4+ KB\n"
     ]
    }
   ],
   "source": [
    "# reg_22.info()\n",
    "# reg_23.info()"
   ]
  },
  {
   "cell_type": "code",
   "execution_count": 206,
   "metadata": {},
   "outputs": [],
   "source": [
    "for player, number in reg_22[\"Player\"].value_counts().items():\n",
    "    if number > 1: \n",
    "        reg_22 = reg_22[reg_22[\"Player\"] != player]\n",
    "\n",
    "for player, number in reg_23[\"Player\"].value_counts().items():\n",
    "    if number > 1: \n",
    "        reg_22 = reg_22[reg_22[\"Player\"] != player]\n"
   ]
  },
  {
   "cell_type": "code",
   "execution_count": 207,
   "metadata": {},
   "outputs": [],
   "source": [
    "pts_23 = []\n",
    "\n",
    "for name in reg_22[\"Player\"]:\n",
    "    if name in reg_23[\"Player\"].unique():\n",
    "        pts_23.append(reg_23.loc[reg_23[\"Player\"] == name][\"PTS\"].values[0])\n",
    "    else:\n",
    "         reg_22 = reg_22[reg_22[\"Player\"] != name]"
   ]
  },
  {
   "cell_type": "code",
   "execution_count": 208,
   "metadata": {},
   "outputs": [],
   "source": [
    "reg_22[\"PTS_23\"] = pts_23"
   ]
  },
  {
   "cell_type": "markdown",
   "metadata": {},
   "source": [
    "## **Columns**\n",
    "\n",
    "### Dropping:\n",
    "* Rk\n",
    "* Player\n",
    "* Pos\n",
    "* Tm\n",
    "* FG%\n",
    "* 3P%\n",
    "* 2P%\n",
    "* eFG%\n",
    "* FT%\n",
    "* DRB\n",
    "* TRB\n",
    "* STL\n",
    "* BLK\n",
    "* PF"
   ]
  },
  {
   "cell_type": "code",
   "execution_count": 209,
   "metadata": {},
   "outputs": [],
   "source": [
    "dropping = [\"Rk\", \"Player\", \"Pos\", \"Tm\", \"FG%\", \"3P%\", \"2P%\", \"eFG%\", \"FT%\", \"TRB\", \"DRB\", \"STL\", \"BLK\", \"PF\"]"
   ]
  },
  {
   "cell_type": "code",
   "execution_count": 210,
   "metadata": {},
   "outputs": [],
   "source": [
    "reg_22 = reg_22.drop(columns=dropping)"
   ]
  },
  {
   "cell_type": "code",
   "execution_count": 211,
   "metadata": {},
   "outputs": [],
   "source": [
    "features = reg_22.columns[:-1]\n",
    "target = reg_22.columns[-1]"
   ]
  },
  {
   "cell_type": "code",
   "execution_count": 212,
   "metadata": {},
   "outputs": [],
   "source": [
    "from sklearn.model_selection import train_test_split\n",
    "\n",
    "x_train, x_test, y_train, y_test = train_test_split(reg_22[features],         \n",
    "                                                    reg_22[target],\n",
    "                                                    test_size=0.2, \n",
    "                                                    random_state=42)"
   ]
  },
  {
   "cell_type": "code",
   "execution_count": 213,
   "metadata": {},
   "outputs": [],
   "source": [
    "for column in features:\n",
    "    \n",
    "    highest_value = max(np.abs(x_train[column]))\n",
    "    \n",
    "    x_train[column] = x_train[column] / highest_value\n",
    "    \n",
    "    x_test[column] = x_test[column] / highest_value"
   ]
  },
  {
   "cell_type": "code",
   "execution_count": 214,
   "metadata": {},
   "outputs": [],
   "source": [
    "x_train = torch.from_numpy(np.array(x_train)).type(torch.FloatTensor)\n",
    "y_train = torch.from_numpy(np.array(y_train)).type(torch.FloatTensor).reshape([-1,1])\n",
    "\n",
    "x_test = torch.from_numpy(np.array(x_test)).type(torch.FloatTensor)\n",
    "y_test = torch.from_numpy(np.array(y_test)).type(torch.FloatTensor).reshape([-1,1])"
   ]
  },
  {
   "cell_type": "code",
   "execution_count": 215,
   "metadata": {},
   "outputs": [],
   "source": [
    "x_train = x_train.to(device)\n",
    "y_train = y_train.to(device)\n",
    "\n",
    "x_test = x_test.to(device)\n",
    "y_test = y_test.to(device)"
   ]
  },
  {
   "cell_type": "code",
   "execution_count": 216,
   "metadata": {},
   "outputs": [],
   "source": [
    "training_set = list(zip(x_train, y_train))\n",
    "test_set = list(zip(x_test, y_test))"
   ]
  },
  {
   "cell_type": "code",
   "execution_count": 258,
   "metadata": {},
   "outputs": [],
   "source": [
    "class NeuralNetwork(nn.Module):\n",
    "    def __init__(self, input_size):\n",
    "        super(NeuralNetwork, self).__init__()\n",
    "        # self.fc1 = nn.Linear(input_size, 4096)\n",
    "        # self.fc2 = nn.Linear(4096, 2048)\n",
    "        # self.fc3 = nn.Linear(2048, 1024)\n",
    "        # self.fc4 = nn.Linear(1024, 512)\n",
    "        self.fc1 = nn.Linear(input_size, 256)\n",
    "        self.fc2 = nn.Linear(256, 128)\n",
    "        self.fc3 = nn.Linear(128, 64)\n",
    "        self.fc4 = nn.Linear(64, 32)\n",
    "        self.fc5 = nn.Linear(32, 16)\n",
    "        self.fc6 = nn.Linear(16, 1)\n",
    "        self.relu = torch.nn.ReLU()\n",
    "        self.dropout1 = nn.Dropout(.2)\n",
    "\n",
    "    def forward(self, x):\n",
    "        \n",
    "        x = self.relu(self.fc1(x))\n",
    "        # x = self.dropout1(x)\n",
    "        x = self.relu(self.fc2(x))\n",
    "        # x = self.dropout1(x)\n",
    "        x = self.relu(self.fc3(x))\n",
    "        # x = self.dropout1(x)\n",
    "        x = self.relu(self.fc4(x))\n",
    "        # x = self.dropout1(x)\n",
    "        x = self.relu(self.fc5(x))\n",
    "        # x = self.dropout1(x)\n",
    "        x = self.relu(self.fc6(x))\n",
    "        # x = self.dropout1(x)\n",
    "        # x = self.relu(self.fc7(x))\n",
    "        # x = self.dropout1(x)\n",
    "        # x = self.relu(self.fc8(x))\n",
    "        # x = self.dropout1(x)\n",
    "        # x = self.relu(self.fc9(x))\n",
    "        # x = self.relu(self.fc10(x))\n",
    "                  \n",
    "        return x"
   ]
  },
  {
   "cell_type": "code",
   "execution_count": 266,
   "metadata": {},
   "outputs": [],
   "source": [
    "input_size = 16\n",
    "\n",
    "batch_size = 8\n",
    "epochs = 150\n",
    "learning_rate = 0.007"
   ]
  },
  {
   "cell_type": "code",
   "execution_count": 267,
   "metadata": {},
   "outputs": [
    {
     "data": {
      "image/png": "[encoded data removed]",
      "text/plain": [
       "<Figure size 640x480 with 1 Axes>"
      ]
     },
     "metadata": {},
     "output_type": "display_data"
    },
    {
     "name": "stdout",
     "output_type": "stream",
     "text": [
      "3.1025912761688232\n"
     ]
    }
   ],
   "source": [
    "# ----------------------------------------------------------------------------------------------------------------\n",
    "#    initialize model, loss_function, optimizer & dataloader\n",
    "\n",
    "\n",
    "model = NeuralNetwork(input_size)\n",
    "model = model.to(device)                                  # GPU\n",
    "\n",
    "optimizer = SGD(model.parameters(), lr = learning_rate)\n",
    "loss_function = torch.nn.L1Loss()\n",
    "\n",
    "train_dataloader = DataLoader(training_set,                 \n",
    "                              batch_size = batch_size,       \n",
    "                              shuffle=True)\n",
    "\n",
    "\n",
    "# ----------------------------------------------------------------------------------------------------------------\n",
    "#    train\n",
    "\n",
    "\n",
    "\n",
    "batch_train_losses = []\n",
    "\n",
    "epoch_train_losses = []\n",
    "epoch_evaluation_losses = []\n",
    "\n",
    "for epoch in range(epochs):\n",
    "\n",
    "    model.train()\n",
    "\n",
    "    \n",
    "    for batch in train_dataloader:\n",
    "        \n",
    "        y_true = batch[1]\n",
    "        input_features = batch[0]\n",
    "        \n",
    "        y_pred=model(input_features)\n",
    "        l1_lambda = 0.01\n",
    "        l1_norm = sum(p.abs().sum() for p in model.parameters())\n",
    "        loss=loss_function(y_pred, y_true) + l1_lambda * l1_norm\n",
    "        # loss=loss_function(y_pred, y_true)\n",
    "        loss.backward()\n",
    "        optimizer.step()\n",
    "        optimizer.zero_grad()\n",
    "        \n",
    "        batch_loss = loss.item()\n",
    "        batch_train_losses.append(batch_loss)\n",
    "    \n",
    "    epoch_average_loss = np.average(batch_train_losses[-len(train_dataloader):])\n",
    "    epoch_train_losses.append(epoch_average_loss)\n",
    "\n",
    "# ----------------------------------------------------------------------------------------------------------------\n",
    "#   evaluation\n",
    "\n",
    "    model.eval()\n",
    "    \n",
    "    y_true = y_test\n",
    "    input_features = x_test\n",
    "    \n",
    "    y_pred = model(input_features)\n",
    "    l1_lambda = 0.01\n",
    "    l1_norm = sum(p.abs().sum() for p in model.parameters())\n",
    "    loss = loss_function(y_pred, y_true) + l1_lambda * l1_norm\n",
    "    # loss = loss_function(y_pred, y_true)\n",
    "    \n",
    "    evaluation_loss = loss.item()\n",
    "    epoch_evaluation_losses.append(evaluation_loss)\n",
    "\n",
    "# ----------------------------------------------------------------------------------------------------------------\n",
    "#   plot results\n",
    "\n",
    "plt.plot(epoch_train_losses, label = 'train loss')\n",
    "plt.plot(epoch_evaluation_losses, label = 'test loss')\n",
    "plt.legend()\n",
    "\n",
    "plt.show()\n",
    "print(epoch_evaluation_losses[-1])"
   ]
  }
 ],
 "metadata": {
  "kernelspec": {
   "display_name": "Python 3",
   "language": "python",
   "name": "python3"
  },
  "language_info": {
   "codemirror_mode": {
    "name": "ipython",
    "version": 3
   },
   "file_extension": ".py",
   "mimetype": "text/x-python",
   "name": "python",
   "nbconvert_exporter": "python",
   "pygments_lexer": "ipython3",
   "version": "3.11.5"
  }
 },
 "nbformat": 4,
 "nbformat_minor": 2
}
